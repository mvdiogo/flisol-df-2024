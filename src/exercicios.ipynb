{
 "cells": [
  {
   "cell_type": "code",
   "execution_count": null,
   "id": "90f57ce3-68ca-4bdc-b2dd-c937249d2e01",
   "metadata": {
    "scrolled": true
   },
   "outputs": [],
   "source": [
    "import ollama\n",
    "\n",
    "formatted_prompt = input('Faça uma pergunta: ')\n",
    "result = ollama.chat(model='llama3', stream=True, messages=[{'role': 'user', 'content': formatted_prompt}])\n",
    "#print(result['message']['content'])\n",
    "\n",
    "for chunk in result:\n",
    "  print(chunk['message']['content'], end='', flush=True)\n"
   ]
  },
  {
   "cell_type": "code",
   "execution_count": null,
   "id": "819c8cdc-9dc7-4057-958d-075b4f8f8b66",
   "metadata": {},
   "outputs": [],
   "source": [
    "from langchain_community.llms import Ollama\n",
    "\n",
    "#llm = Ollama(model=\"llama3\",base_url='http://192.168.20.50:11434', temperature=0.1)\n",
    "llm = Ollama(model=\"llama2\", temperature=0.1)\n",
    "formatted_prompt = input('Faça uma pergunta: ')\n",
    "print(llm.invoke(formatted_prompt))"
   ]
  },
  {
   "cell_type": "code",
   "execution_count": null,
   "id": "7c9c560c-ad4e-47d0-9c5e-028dbc6b5f10",
   "metadata": {},
   "outputs": [],
   "source": [
    "## terceira parte"
   ]
  },
  {
   "cell_type": "code",
   "execution_count": null,
   "id": "3e56dccb-866c-480c-b1f8-cb354faec45e",
   "metadata": {},
   "outputs": [],
   "source": [
    "from langchain_community.llms import Ollama\n",
    "from langchain.callbacks.manager import CallbackManager\n",
    "from langchain.callbacks.streaming_stdout import StreamingStdOutCallbackHandler\n",
    "\n",
    "llm = Ollama(\n",
    "    model=\"llama2\", callback_manager=CallbackManager([StreamingStdOutCallbackHandler()])\n",
    ")\n",
    "formatted_prompt = input('Faça uma pergunta: ')\n",
    "print(llm.invoke(formatted_prompt))"
   ]
  },
  {
   "cell_type": "code",
   "execution_count": null,
   "id": "64adeef7-d2b2-47d8-a087-0d8248af0de2",
   "metadata": {},
   "outputs": [],
   "source": [
    "#"
   ]
  },
  {
   "cell_type": "code",
   "execution_count": null,
   "id": "73cabe4e-e676-45f3-93a2-dbaea77d1db7",
   "metadata": {},
   "outputs": [],
   "source": [
    "from langchain.text_splitter import RecursiveCharacterTextSplitter\n",
    "from langchain_community.document_loaders import WebBaseLoader\n",
    "from langchain_community.vectorstores import Chroma\n",
    "from langchain_community.embeddings import OllamaEmbeddings\n",
    "#problemas com chromadb e sqlite3\n",
    "\n",
    "import ollama\n",
    "\n",
    "def load_and_retrieve_docs(url):\n",
    "    loader = WebBaseLoader(\n",
    "        web_paths=(url,),\n",
    "        bs_kwargs=dict() \n",
    "    )\n",
    "    docs = loader.load()\n",
    "    text_splitter = RecursiveCharacterTextSplitter(chunk_size=200,\n",
    "    \tchunk_overlap=50)\n",
    "    splits = text_splitter.split_documents(docs)\n",
    "    embeddings = OllamaEmbeddings(model=\"nomic-embed-text\")\n",
    "    vectorstore = Chroma.from_documents(documents=splits, embedding=embeddings)\n",
    "    return vectorstore.as_retriever(search_type=\"similarity\", search_kwargs={\"k\":2})\n",
    "\n",
    "def format_docs(docs):\n",
    "    return \"\\n\\n\".join(doc.page_content for doc in docs)\n",
    "\n",
    "def rag_chain(url, question):\n",
    "    retriever = load_and_retrieve_docs(url)\n",
    "    retrieved_docs = retriever.invoke(question)\n",
    "    formatted_context = format_docs(retrieved_docs)\n",
    "    formatted_prompt = f\"Question: {question}\\n\\nContext: {formatted_context}\"\n",
    "    response = ollama.chat(model='llama2', messages=[{'role': 'user', 'content': formatted_prompt}])\n",
    "    return response['message']['content']\n",
    "\n",
    "url = \"https://github.com/mvdiogo/CrewAI\"\n",
    "question = \"Como instalar o crewai\"\n",
    "result = rag_chain(url, question)\n",
    "\n",
    "print(result)"
   ]
  },
  {
   "cell_type": "code",
   "execution_count": null,
   "id": "0a0b9440-5676-45aa-829c-e55e4e2a93f6",
   "metadata": {},
   "outputs": [],
   "source": [
    "#"
   ]
  },
  {
   "cell_type": "code",
   "execution_count": null,
   "id": "cb50a881-8732-4efd-bfe0-fbb64be8fded",
   "metadata": {},
   "outputs": [],
   "source": [
    "from langchain_community.retrievers import BM25Retriever\n",
    "\n",
    "nome_arquivo = \"quemmatouodete.txt\"\n",
    "with open(nome_arquivo, 'r') as arquivo:\n",
    "    linhas = [linha.strip() for linha in arquivo.readlines()]\n",
    "\n",
    "retriever = BM25Retriever.from_texts(linhas, similarity_top_k=5)\n",
    "\n",
    "result = retriever.invoke(\"quem matou odete roitman\")\n",
    "\n",
    "print(result)"
   ]
  },
  {
   "cell_type": "code",
   "execution_count": null,
   "id": "83809db6-8b31-406f-8a8d-f1ba02f09e51",
   "metadata": {},
   "outputs": [],
   "source": [
    "#"
   ]
  },
  {
   "cell_type": "code",
   "execution_count": null,
   "id": "53ea596c-6082-41b7-ba2c-c7beadc8d454",
   "metadata": {},
   "outputs": [],
   "source": [
    "from langchain_community.tools import WikipediaQueryRun\n",
    "from langchain_community.utilities import WikipediaAPIWrapper\n",
    "\n",
    "params = {\"lang\":\"pt\",\"top_k_results\":5}\n",
    "wikipedia = WikipediaQueryRun(api_wrapper=WikipediaAPIWrapper(params = params))\n",
    "\n",
    "result = wikipedia.run(\"coronel silvino\")\n",
    "print(result)"
   ]
  },
  {
   "cell_type": "code",
   "execution_count": null,
   "id": "dd7500e3-5f46-41f5-838c-96a64bd5ce96",
   "metadata": {},
   "outputs": [],
   "source": [
    "#"
   ]
  },
  {
   "cell_type": "code",
   "execution_count": null,
   "id": "342a45e7-5a27-49ae-b349-59ff7c1d302d",
   "metadata": {},
   "outputs": [],
   "source": [
    "import wikipedia\n",
    "wikipedia.set_lang('pt')\n",
    "result = wikipedia.summary('Coronel Silvino', sentences = 10, auto_suggest = True)\n",
    "#result = wikipedia.search('Coronel silvino')\n",
    "print(result)"
   ]
  },
  {
   "cell_type": "code",
   "execution_count": null,
   "id": "4f9b0229-a213-4630-946f-9a41a6a3c75a",
   "metadata": {},
   "outputs": [],
   "source": [
    "#"
   ]
  },
  {
   "cell_type": "code",
   "execution_count": null,
   "id": "42d2bc02-bb4d-4747-9467-9f7f4b4a053a",
   "metadata": {},
   "outputs": [],
   "source": [
    "from langchain_community.tools import DuckDuckGoSearchResults\n",
    "from langchain_community.utilities import DuckDuckGoSearchAPIWrapper\n",
    "\n",
    "search = DuckDuckGoSearchResults()\n",
    "wrapper = DuckDuckGoSearchAPIWrapper(region=\"pt-br\", time=\"d\", max_results=10)\n",
    "search = DuckDuckGoSearchResults(api_wrapper=wrapper)\n",
    "\n",
    "print(search.run(\"flisol\"))"
   ]
  },
  {
   "cell_type": "code",
   "execution_count": null,
   "id": "af9b0fdb-2c0d-4846-ae61-862f1ad55298",
   "metadata": {},
   "outputs": [],
   "source": [
    "#"
   ]
  },
  {
   "cell_type": "code",
   "execution_count": null,
   "id": "3dd5b613-a368-4e94-a6f8-52a6c7868f98",
   "metadata": {},
   "outputs": [],
   "source": [
    "from langchain_community.document_loaders.image import UnstructuredImageLoader\n",
    "from langchain_community.document_loaders import ImageCaptionLoader #apt install tesseract-ocr\n",
    "loader = UnstructuredImageLoader(\"1.png\")\n",
    "data = loader.load()\n",
    "print(data)\n",
    "\n",
    "loader = ImageCaptionLoader('ogaroto.jpg')\n",
    "doc = loader.load()\n",
    "print(doc)"
   ]
  },
  {
   "cell_type": "code",
   "execution_count": null,
   "id": "15115530-6df2-42bd-8e06-ceb369f8c0f6",
   "metadata": {},
   "outputs": [],
   "source": [
    "#"
   ]
  },
  {
   "cell_type": "code",
   "execution_count": null,
   "id": "e3a06be9-5560-4ba2-9a9e-89ff1806e74c",
   "metadata": {},
   "outputs": [],
   "source": [
    "ollama run llava"
   ]
  },
  {
   "cell_type": "code",
   "execution_count": null,
   "id": "fe85d344-6c79-44fe-812a-e8bc1d66090f",
   "metadata": {},
   "outputs": [],
   "source": [
    "what is this image? \"./street.jpg\""
   ]
  }
 ],
 "metadata": {
  "kernelspec": {
   "display_name": "Python 3 (ipykernel)",
   "language": "python",
   "name": "python3"
  },
  "language_info": {
   "codemirror_mode": {
    "name": "ipython",
    "version": 3
   },
   "file_extension": ".py",
   "mimetype": "text/x-python",
   "name": "python",
   "nbconvert_exporter": "python",
   "pygments_lexer": "ipython3",
   "version": "3.12.3"
  }
 },
 "nbformat": 4,
 "nbformat_minor": 5
}
