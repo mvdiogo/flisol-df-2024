{
 "cells": [
  {
   "cell_type": "markdown",
   "id": "b998e861-18c6-4f12-aebd-6ef61d4c0dd8",
   "metadata": {
    "scrolled": true
   },
   "source": [
    "# Fazendo uma pergunta usando a biblioteca ollama"
   ]
  },
  {
   "cell_type": "code",
   "execution_count": null,
   "id": "59094dfb-4884-4953-9eb6-ab03083b7b30",
   "metadata": {
    "scrolled": true
   },
   "outputs": [],
   "source": [
    "import ollama\n",
    "formatted_prompt = input('Faça uma pergunta: ')\n",
    "\n",
    "result = ollama.chat(model='llama3', stream=True, messages=[{'role': 'user', 'content': formatted_prompt}])\n",
    "#print(result['message']['content'])\n",
    "\n",
    "for chunk in result:\n",
    "  print(chunk['message']['content'], end='', flush=True)"
   ]
  },
  {
   "cell_type": "markdown",
   "id": "6940ea06-a08f-423c-9530-0815a2f53b6f",
   "metadata": {},
   "source": [
    "# Fazendo uma pergunta usando a biblioteca langchain_community"
   ]
  },
  {
   "cell_type": "code",
   "execution_count": null,
   "id": "819c8cdc-9dc7-4057-958d-075b4f8f8b66",
   "metadata": {},
   "outputs": [],
   "source": [
    "from langchain_community.llms import Ollama\n",
    "# a linha abaixo mostra como usar o ollama em um outro computador\n",
    "# llm = Ollama(model=\"llama3\",base_url='http://192.168.20.50:11434', temperature=0.1)\n",
    "llm = Ollama(model=\"llama2\", temperature=0.1)\n",
    "formatted_prompt = input('Faça uma pergunta: ')\n",
    "print(llm.invoke(formatted_prompt))"
   ]
  },
  {
   "cell_type": "markdown",
   "id": "fa5d79c2-905f-4fb2-9f89-8d570016a719",
   "metadata": {},
   "source": [
    "# Fazendo uma pergunta usando a biblioteca langchain_community em stream"
   ]
  },
  {
   "cell_type": "code",
   "execution_count": null,
   "id": "3e56dccb-866c-480c-b1f8-cb354faec45e",
   "metadata": {},
   "outputs": [],
   "source": [
    "from langchain_community.llms import Ollama\n",
    "from langchain.callbacks.manager import CallbackManager\n",
    "from langchain.callbacks.streaming_stdout import StreamingStdOutCallbackHandler\n",
    "\n",
    "llm = Ollama(\n",
    "    model=\"llama2\", callback_manager=CallbackManager([StreamingStdOutCallbackHandler()])\n",
    ")\n",
    "formatted_prompt = input('Faça uma pergunta: ')\n",
    "print(llm.invoke(formatted_prompt))"
   ]
  },
  {
   "cell_type": "markdown",
   "id": "41f3a655-cd44-4a36-90db-f46c526013a8",
   "metadata": {},
   "source": [
    "# Pesquisa na internet e retorna uma informação"
   ]
  },
  {
   "cell_type": "code",
   "execution_count": null,
   "id": "73cabe4e-e676-45f3-93a2-dbaea77d1db7",
   "metadata": {},
   "outputs": [],
   "source": [
    "from langchain.text_splitter import RecursiveCharacterTextSplitter\n",
    "from langchain_community.document_loaders import WebBaseLoader\n",
    "from langchain_community.vectorstores import Chroma\n",
    "from langchain_community.embeddings import OllamaEmbeddings\n",
    "# Pode ter que resolver problemas com chromadb e sqlite3\n",
    "\n",
    "import ollama\n",
    "\n",
    "def load_and_retrieve_docs(url):\n",
    "    loader = WebBaseLoader(\n",
    "        web_paths=(url,),\n",
    "        bs_kwargs=dict() \n",
    "    )\n",
    "    docs = loader.load()\n",
    "    text_splitter = RecursiveCharacterTextSplitter(chunk_size=200,\n",
    "    \tchunk_overlap=50)\n",
    "    splits = text_splitter.split_documents(docs)\n",
    "    embeddings = OllamaEmbeddings(model=\"nomic-embed-text\")\n",
    "    vectorstore = Chroma.from_documents(documents=splits, embedding=embeddings)\n",
    "    return vectorstore.as_retriever(search_type=\"similarity\", search_kwargs={\"k\":2})\n",
    "\n",
    "def format_docs(docs):\n",
    "    return \"\\n\\n\".join(doc.page_content for doc in docs)\n",
    "\n",
    "def rag_chain(url, question):\n",
    "    retriever = load_and_retrieve_docs(url)\n",
    "    retrieved_docs = retriever.invoke(question)\n",
    "    formatted_context = format_docs(retrieved_docs)\n",
    "    formatted_prompt = f\"Question: {question}\\n\\nContext: {formatted_context}\"\n",
    "    response = ollama.chat(model='llama2', messages=[{'role': 'user', 'content': formatted_prompt}])\n",
    "    return response['message']['content']\n",
    "\n",
    "url = \"https://github.com/mvdiogo/CrewAI\"\n",
    "question = \"Como instalar o crewai\"\n",
    "result = rag_chain(url, question)\n",
    "\n",
    "print(result)"
   ]
  },
  {
   "cell_type": "markdown",
   "id": "cd7d4760-f2ca-437e-a2f4-36302d5ce34e",
   "metadata": {},
   "source": [
    "# Melhora a qualidade do retriever usdando BM25"
   ]
  },
  {
   "cell_type": "code",
   "execution_count": null,
   "id": "cb50a881-8732-4efd-bfe0-fbb64be8fded",
   "metadata": {},
   "outputs": [],
   "source": [
    "from langchain_community.retrievers import BM25Retriever\n",
    "\n",
    "nome_arquivo = \"quemmatouodete.txt\"\n",
    "with open(nome_arquivo, 'r') as arquivo:\n",
    "    linhas = [linha.strip() for linha in arquivo.readlines()]\n",
    "\n",
    "retriever = BM25Retriever.from_texts(linhas, similarity_top_k=5)\n",
    "\n",
    "result = retriever.invoke(\"quem matou odete roitman\")\n",
    "\n",
    "print(result)"
   ]
  },
  {
   "cell_type": "markdown",
   "id": "b490fcf4-7837-4b7d-b3e3-a96168ed59a2",
   "metadata": {},
   "source": [
    "# Melhora a qualidade do retriever pesquisando na wikipedia pela biblioteca da langchain"
   ]
  },
  {
   "cell_type": "code",
   "execution_count": null,
   "id": "53ea596c-6082-41b7-ba2c-c7beadc8d454",
   "metadata": {},
   "outputs": [],
   "source": [
    "from langchain_community.tools import WikipediaQueryRun\n",
    "from langchain_community.utilities import WikipediaAPIWrapper\n",
    "\n",
    "params = {\"lang\":\"pt\",\"top_k_results\":5}\n",
    "wikipedia = WikipediaQueryRun(api_wrapper=WikipediaAPIWrapper(params = params))\n",
    "\n",
    "result = wikipedia.run(\"coronel silvino\")\n",
    "print(result)"
   ]
  },
  {
   "cell_type": "markdown",
   "id": "39b25ad0-725f-4c62-8a62-957eff9f583c",
   "metadata": {},
   "source": [
    "# Melhora a qualidade do retriever pesquisando na wikipedia pela biblioteca nativa"
   ]
  },
  {
   "cell_type": "code",
   "execution_count": null,
   "id": "342a45e7-5a27-49ae-b349-59ff7c1d302d",
   "metadata": {},
   "outputs": [],
   "source": [
    "import wikipedia\n",
    "wikipedia.set_lang('pt')\n",
    "result = wikipedia.summary('Coronel Silvino', sentences = 10, auto_suggest = True)\n",
    "#result = wikipedia.search('Coronel silvino')\n",
    "print(result)"
   ]
  },
  {
   "cell_type": "markdown",
   "id": "4039215f-9d90-4852-89c4-78c029d5c49e",
   "metadata": {},
   "source": [
    "# Melhora a qualidade do retriever pesquisando no DuckDuckGoSearchResults"
   ]
  },
  {
   "cell_type": "code",
   "execution_count": null,
   "id": "42d2bc02-bb4d-4747-9467-9f7f4b4a053a",
   "metadata": {},
   "outputs": [],
   "source": [
    "from langchain_community.tools import DuckDuckGoSearchResults\n",
    "from langchain_community.utilities import DuckDuckGoSearchAPIWrapper\n",
    "\n",
    "search = DuckDuckGoSearchResults()\n",
    "wrapper = DuckDuckGoSearchAPIWrapper(region=\"pt-br\", time=\"d\", max_results=10)\n",
    "search = DuckDuckGoSearchResults(api_wrapper=wrapper)\n",
    "\n",
    "print(search.run(\"flisol\"))"
   ]
  },
  {
   "cell_type": "markdown",
   "id": "36dbfdd8-24fc-42a0-9a24-2fd28043a3d7",
   "metadata": {},
   "source": [
    "# Buscando informações de arquivo não estruturado (imagens)"
   ]
  },
  {
   "cell_type": "code",
   "execution_count": null,
   "id": "3dd5b613-a368-4e94-a6f8-52a6c7868f98",
   "metadata": {},
   "outputs": [],
   "source": [
    "from langchain_community.document_loaders.image import UnstructuredImageLoader\n",
    "from langchain_community.document_loaders import ImageCaptionLoader #apt install tesseract-ocr\n",
    "loader = UnstructuredImageLoader(\"1.png\")\n",
    "data = loader.load()\n",
    "print(data)\n",
    "\n",
    "loader = ImageCaptionLoader('ogaroto.jpg')\n",
    "doc = loader.load()\n",
    "print(doc)"
   ]
  }
 ],
 "metadata": {
  "kernelspec": {
   "display_name": "Python 3 (ipykernel)",
   "language": "python",
   "name": "python3"
  },
  "language_info": {
   "codemirror_mode": {
    "name": "ipython",
    "version": 3
   },
   "file_extension": ".py",
   "mimetype": "text/x-python",
   "name": "python",
   "nbconvert_exporter": "python",
   "pygments_lexer": "ipython3",
   "version": "3.12.3"
  }
 },
 "nbformat": 4,
 "nbformat_minor": 5
}
